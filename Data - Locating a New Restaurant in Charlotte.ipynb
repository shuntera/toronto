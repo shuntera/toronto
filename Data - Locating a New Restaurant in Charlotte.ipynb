{
 "cells": [
  {
   "cell_type": "markdown",
   "id": "767b2add",
   "metadata": {},
   "source": [
    "# Choosing a Location for a New Restaurant in Charlotte, North Carolina\n",
    "## <span style=\"color:dodgerblue\">Data</span>\n",
    "The following data sources will be used in this analysis\n",
    "Wikipedia provides a page listing the neighborhoods of Charlotte, North Carolina where this analysis will take place.\n",
    "It is not held in a table so it wil need to be scraped using href tags that can be uniquely identified by their common attributes.\n",
    "[List of Charlotte Neighborhoods](https://en.wikipedia.org/wiki/List_of_Charlotte_neighborhoods)\n",
    "![Web Page Source Code](source.jpg)\n",
    "\n",
    "### <span style=\"color:dodgerblue\">Invalid Data</span>\n",
    "Some of those tags also describe non-relevant data so they will have to be excluded from the list of neighborhoods.\n",
    "\n",
    "### <span style=\"color:dodgerblue\">Incorrect Tags</span>\n",
    "Some of the neighborhoods have been entered with either incorrect tags or with erroneous detail and these will have to be appended to the list manually.\n",
    "\n",
    "### <span style=\"color:dodgerblue\">Duplicates</span>\n",
    "Duplicates appear on the web page so these will be removed programatically to ensure the uniqueness of each neighborhood.\n",
    "\n",
    "### <span style=\"color:dodgerblue\">Geolocation</span>\n",
    "The neighborhood names on their own are not enough to retrieve latitude and longitude data from the **geopy** module, so the neighborhoods will be appended with *city* and *state* information before being submitted.\n",
    "![Get Latitiude and Longitude](get_lat_long.jpg)\n",
    "\n",
    "### <span style=\"color:dodgerblue\">Foursquare</span>\n",
    "With the latitude and longitude identified, the neighborhoods are submitted to Foursquare to retrieve the recorded venues within 500 meters of the neighborhood location.\n",
    "![Retrieving from Foursquare](foursquare.jpg)\n",
    "\n",
    "### <span style=\"color:dodgerblue\">Clustering</span>\n",
    "All of the venues are used to cluster the data via kmeans rather than just using restaurant venues at this stage to get a rounded picture of the facilities and lifestyles available in each neighborhood.\n",
    "We are aiming to be able to focus on a prospective neighborhood cluster that is not too large or small but gives an adequate number of related neighborhoods with which we can perfom further analysis.\n",
    "![KMeans Clustering](kmeans.jpg)\n"
   ]
  }
 ],
 "metadata": {
  "kernelspec": {
   "display_name": "Python 3",
   "language": "python",
   "name": "python3"
  },
  "language_info": {
   "codemirror_mode": {
    "name": "ipython",
    "version": 3
   },
   "file_extension": ".py",
   "mimetype": "text/x-python",
   "name": "python",
   "nbconvert_exporter": "python",
   "pygments_lexer": "ipython3",
   "version": "3.8.5"
  }
 },
 "nbformat": 4,
 "nbformat_minor": 5
}
