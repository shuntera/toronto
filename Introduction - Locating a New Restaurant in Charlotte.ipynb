{
 "cells": [
  {
   "cell_type": "markdown",
   "id": "767b2add",
   "metadata": {},
   "source": [
    "# Choosing a Location for a New Restaurant in Charlotte, North Carolina\n",
    "\n",
    "\n",
    "\n",
    "## <span style=\"color:dodgerblue\">Introduction/Business Problem</span>\n",
    "\n",
    "My customer is a serial entrepreneur who is looking for a new investment opportunity.\n",
    "She believes that after a year of being at home during the pandemic, people are impatient to get back out there and pursue their leisure activities, including dining out. She is planning to either open a new restaurant or takeover an existing one - perhaps one that has gotten into financial difficulties because of the closures due to the pandemic.\n",
    "She is looking for assistance in two areas:\n",
    "\n",
    "### <span style=\"color:dodgerblue\">Neighborhood</span>\n",
    "My customer lives in the SouthPark neighborhood of Charlotte, but her entreprenurial lifestyle means she travels and lot and has little experience of the food scene outside of her own local in the city.\n",
    "She doe want to go with what she knows though and outside of SouthPark she wants to consider other 'similar' neighborhoods in Charlotte\n",
    "\n",
    "### <span style=\"color:dodgerblue\">Cuisine</span>\n",
    "No fast food or takeaways like Pizza or Burgers, she is looking to establish or invest in a sit in restaurant, serving good food to groups of people. She is not tied to a specific cuisine, she is looking for a 'popular' cuisine that may be underrepresented in a desirable neighborhood or where there may be opportunities to grow an already established but non-saturated cuisine.\n",
    "My deliverable is to provide her with some relevant neighborhoods to choose from and some idea as to what the market is for different cuisines in the city.\n"
   ]
  },
  {
   "cell_type": "code",
   "execution_count": null,
   "id": "26b0970b",
   "metadata": {},
   "outputs": [],
   "source": []
  }
 ],
 "metadata": {
  "kernelspec": {
   "display_name": "Python 3",
   "language": "python",
   "name": "python3"
  },
  "language_info": {
   "codemirror_mode": {
    "name": "ipython",
    "version": 3
   },
   "file_extension": ".py",
   "mimetype": "text/x-python",
   "name": "python",
   "nbconvert_exporter": "python",
   "pygments_lexer": "ipython3",
   "version": "3.8.5"
  }
 },
 "nbformat": 4,
 "nbformat_minor": 5
}
